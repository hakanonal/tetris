{
 "cells": [
  {
   "cell_type": "markdown",
   "metadata": {},
   "source": [
    "# Development Journal\n",
    "\n",
    " This notebook contains the journal that I have been keeping while I am developing the code. It consists all resources I have used, thought process, trials, errors, deadlocks etc..."
   ]
  },
  {
   "cell_type": "markdown",
   "metadata": {},
   "source": [
    "10.06.2020\n",
    "\n",
    "- Since I am not a very good game developer I do not want to spent too much time to develop game environment. I have checked if there is convinient open-sourced code that I can use. I have bumped in to [this](https://gist.github.com/silvasur/565419/d9de6a84e7da000797ac681976442073045c74a4)\n",
    "- You can experience the game from [here](sample_environment.py) also. Thanks to [silvasur](https://github.com/silvasur)\n",
    "- I will spent time to understand how the game is coded.\n",
    "- I will also try to research about genetic coding.\n",
    "- I will also need to decide the inputs and outputs of the NN. To that researching on already implemented tetris AI's would help a lot. However before moving into that my dream is to train a convolutional network that looks at the game state as a picture. By this way my network can work on any tetris environment."
   ]
  },
  {
   "cell_type": "markdown",
   "metadata": {},
   "source": [
    "11.06.2020\n",
    "\n",
    "- Read about [this](http://cs231n.stanford.edu/reports/2016/pdfs/121_Report.pdf) article\n",
    "- [This](https://codemyroad.wordpress.com/2013/04/14/tetris-ai-the-near-perfect-player/) article explains very good how to structure the reward and also tells more about genetic algorithm. It was very enlighting for me."
   ]
  }
 ],
 "metadata": {
  "language_info": {
   "codemirror_mode": {
    "name": "ipython",
    "version": 3
   },
   "file_extension": ".py",
   "mimetype": "text/x-python",
   "name": "python",
   "nbconvert_exporter": "python",
   "pygments_lexer": "ipython3",
   "version": "3.7.2-final"
  },
  "orig_nbformat": 2,
  "kernelspec": {
   "name": "python37264bit3ef340d3d96f44f381aa898ad19adcf0",
   "display_name": "Python 3.7.2 64-bit"
  }
 },
 "nbformat": 4,
 "nbformat_minor": 2
}